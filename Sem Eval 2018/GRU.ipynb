{
  "nbformat": 4,
  "nbformat_minor": 0,
  "metadata": {
    "colab": {
      "provenance": []
    },
    "kernelspec": {
      "name": "python3",
      "display_name": "Python 3"
    },
    "language_info": {
      "name": "python"
    },
    "gpuClass": "standard",
    "accelerator": "TPU"
  },
  "cells": [
    {
      "cell_type": "code",
      "execution_count": 1,
      "metadata": {
        "id": "FTXvbEgZpvoz"
      },
      "outputs": [],
      "source": [
        "import numpy as np\n",
        "import torch\n",
        "from torch.utils.data import Dataset\n",
        "import torch.nn as nn\n",
        "import torch.nn.functional as F\n",
        "from torch.nn import init\n",
        "import torch.optim as optim\n",
        "from torch.utils.data import DataLoader\n",
        "from tqdm import tqdm\n",
        "import pickle\n",
        "import matplotlib.pyplot as plt"
      ]
    },
    {
      "cell_type": "code",
      "source": [
        "train_hypo_datapath =\"1A.english.training.data.txt\"\n",
        "train_hyper_datapath =\"1A.english.training.gold.txt\"\n",
        "train_vocab_datapath =\"1A.english.vocabulary.txt\""
      ],
      "metadata": {
        "id": "UCCVXpXQqAxq"
      },
      "execution_count": 2,
      "outputs": []
    },
    {
      "cell_type": "code",
      "source": [
        "class Hypernymy_Dataset(Dataset):\n",
        "    def __init__(self, HYPONYMS_FILENAME, HYPERNYMS_FILENAME, VOCAB_FILENAME, num_negs=5):\n",
        "        self.hyponyms = [line.strip().split(\"\\t\")[0] for line in self.read_file(HYPONYMS_FILENAME)]\n",
        "        self.hypernyms = [line.strip().split(\"\\t\") for line in self.read_file(HYPERNYMS_FILENAME)]\n",
        "        self.vocab = list(set([line.strip().split(\"\\t\")[0] for line in self.read_file(VOCAB_FILENAME)]))\n",
        "        self.all_hypernyms = self.merge_hypernyms()\n",
        "        self.num_negs = num_negs\n",
        "        self.word_id_map = dict()\n",
        "        self.id_word_map = dict()\n",
        "        self.data_size = len(self.hyponyms)\n",
        "        self.generate_mappings()\n",
        "\n",
        "    def read_file(self,FILENAME):\n",
        "        f = open(FILENAME,\"r\")\n",
        "        lines = f.readlines()\n",
        "        f.close()\n",
        "        modified_lines = []\n",
        "        for line in lines:\n",
        "            words = line.strip().split(\"\\t\")\n",
        "            modified_line = \"\"\n",
        "            for word in words:\n",
        "                word=word.lower()\n",
        "                underscored_word = \"_\".join(word.split(\" \"))\n",
        "                modified_line = modified_line + underscored_word + \"\\t\"\n",
        "            modified_lines.append(modified_line)\n",
        "        return modified_lines\n",
        "\n",
        "    def merge_hypernyms(self):\n",
        "        all_hypernyms = []\n",
        "        for hypers in self.hypernyms:\n",
        "            all_hypernyms = all_hypernyms + hypers\n",
        "        return list(set(all_hypernyms))\n",
        "\n",
        "    def generate_mappings(self):\n",
        "        for ndx, word in enumerate(self.vocab):\n",
        "            self.word_id_map[word] = ndx\n",
        "            self.id_word_map[ndx] = word\n",
        "\n",
        "    def get_negative_samples(self, ndx):\n",
        "        positives = self.hypernyms[ndx]\n",
        "        negatives = []\n",
        "        count = 0\n",
        "        lo = self.num_negs * len(positives)\n",
        "        while count < lo:\n",
        "            rand_neg = self.all_hypernyms[np.random.randint(0, len(self.all_hypernyms))]\n",
        "            if rand_neg not in positives and rand_neg not in negatives:\n",
        "                negatives.append(rand_neg)\n",
        "                count = count + 1\n",
        "        return negatives\n",
        "\n",
        "    @staticmethod\n",
        "    def collate(batches):\n",
        "        u = [u for b in batches for u, _, _ in b if len(b) > 0]\n",
        "        v = [v for b in batches for _, v, _ in b if len(b) > 0]\n",
        "        neg = [neg_v for b in batches for _, _, neg_v in b if len(b) > 0]\n",
        "        return torch.LongTensor(u), torch.LongTensor(v), torch.LongTensor(neg)\n",
        "\n",
        "    def __getitem__(self, ndx):\n",
        "        hyponym = self.hyponyms[ndx]\n",
        "        hypernyms = self.hypernyms[ndx]\n",
        "        negative_samples = self.get_negative_samples(ndx)\n",
        "        items = []\n",
        "        start, end = 0, self.num_negs\n",
        "        for ndx, hypernym in enumerate(hypernyms):\n",
        "            negatives = negative_samples[start:end]\n",
        "            start = end\n",
        "            end = end + self.num_negs\n",
        "            items.append((self.word_id_map[hyponym], self.word_id_map[hypernym], [self.word_id_map[neg] for neg in negatives]))\n",
        "        return items\n",
        "\n",
        "    def __len__(self):\n",
        "        return self.data_size"
      ],
      "metadata": {
        "id": "LbMexGrN4LRU"
      },
      "execution_count": 3,
      "outputs": []
    },
    {
      "cell_type": "code",
      "source": [
        "def read_file(FILENAME):\n",
        "    f = open(FILENAME,\"r\")\n",
        "    lines = f.readlines()\n",
        "    f.close()\n",
        "    modified_lines = list()\n",
        "    for line in lines:\n",
        "        words = line.strip().split(\"\\t\")\n",
        "        modified_line = \"\"\n",
        "        for word in words:\n",
        "            word = word.lower()\n",
        "            underscored_word = \"_\".join(word.split(\" \"))\n",
        "            modified_line = modified_line + underscored_word + \"\\t\"\n",
        "        modified_lines.append(modified_line)\n",
        "    return modified_lines\n",
        "\n",
        "def merge_hypernyms(hypernyms):\n",
        "    all_hypernyms = []\n",
        "    for hypers in hypernyms:\n",
        "        all_hypernyms += hypers\n",
        "    return list(set(all_hypernyms))"
      ],
      "metadata": {
        "id": "x13olhDcuEpf"
      },
      "execution_count": 4,
      "outputs": []
    },
    {
      "cell_type": "code",
      "source": [
        "TARGET_TRAIN_HYPO = \"1A.english.training.data.txt\"\n",
        "TARGET_TRAIN_HYPER = \"1A.english.training.gold.txt\"\n",
        "TARGET_DEV_HYPO = \"1A.english.trial.data.txt\"\n",
        "TARGET_DEV_HYPER = \"1A.english.trial.gold.txt\"\n",
        "TARGET_TEST_HYPO = \"1A.english.test.data.txt\"\n",
        "TARGET_TEST_HYPER = \"1A.english.test.gold.txt\""
      ],
      "metadata": {
        "id": "_bfdKezluQSx"
      },
      "execution_count": 5,
      "outputs": []
    },
    {
      "cell_type": "markdown",
      "source": [
        "Creating merged vocabulary"
      ],
      "metadata": {
        "id": "RVLzX4db30hb"
      }
    },
    {
      "cell_type": "code",
      "source": [
        "hyponyms_train = [line.strip().split(\"\\t\")[0] for line in read_file(TARGET_TRAIN_HYPO)]\n",
        "hypernyms_train = merge_hypernyms([line.strip().split(\"\\t\") for line in read_file(TARGET_TRAIN_HYPER)])\n",
        "hyponyms_dev = [line.strip().split(\"\\t\")[0] for line in read_file(TARGET_DEV_HYPO)]\n",
        "hypernyms_dev = merge_hypernyms([line.strip().split(\"\\t\") for line in read_file(TARGET_DEV_HYPER)])\n",
        "hyponyms_test = [line.strip().split(\"\\t\")[0] for line in read_file(TARGET_TEST_HYPO)]\n",
        "hypernyms_test = merge_hypernyms([line.strip().split(\"\\t\") for line in read_file(TARGET_TEST_HYPER)])\n",
        "\n",
        "#vocab = list(set([line.strip().split(\"\\t\")[0] for line in read_file(TARGET_VOCAB)]))\n",
        "\n",
        "all_words = list()\n",
        "\n",
        "all_words = all_words + hyponyms_train\n",
        "all_words = all_words + hypernyms_train\n",
        "all_words = all_words + hyponyms_dev\n",
        "all_words = all_words + hypernyms_dev\n",
        "all_words = all_words + hyponyms_test\n",
        "all_words = all_words + hypernyms_test\n",
        "\n",
        "new_vocab = list(set(all_words))\n",
        "\n",
        "#print(\"LENGTH OF EXISTING VOCAB: {} AND NEW VOCAB: {}\".format(len(vocab), len(new_vocab)))\n",
        "\n",
        "f = open(\"merged_english_vocab\", \"w\")\n",
        "for word in new_vocab:\n",
        "    f.write(word + \"\\n\")\n",
        "f.close()\n",
        "\n",
        "#print(\"NEW VOCAB FILE {} CREATED SUCCESSFULLY.\".format(\"merged_english_vocab\"))"
      ],
      "metadata": {
        "id": "3qqu55uytuE5"
      },
      "execution_count": 7,
      "outputs": []
    },
    {
      "cell_type": "markdown",
      "source": [
        "Skip Gram Model for encoding word to vector"
      ],
      "metadata": {
        "id": "OkKBp76B3jYY"
      }
    },
    {
      "cell_type": "code",
      "source": [
        "class SkipGramModel(nn.Module):\n",
        "\n",
        "    def __init__(self, emb_size, emb_dimension):\n",
        "        super(SkipGramModel, self).__init__()\n",
        "        self.emb_size = emb_size\n",
        "        self.emb_dimension = emb_dimension\n",
        "        self.u_embeddings = nn.Embedding(emb_size, emb_dimension, sparse=True)\n",
        "\n",
        "        initrange = 1.0 / self.emb_dimension\n",
        "        init.uniform_(self.u_embeddings.weight.data, -initrange, initrange)\n",
        "\n",
        "    def forward(self, pos_u, pos_v, neg_v):\n",
        "        emb_u = self.u_embeddings(pos_u)\n",
        "        emb_v = self.u_embeddings(pos_v)\n",
        "        emb_neg_v = self.u_embeddings(neg_v)\n",
        "        score = torch.sum(torch.mul(emb_u, emb_v), dim=1)\n",
        "        score = torch.clamp(score, max=10, min=-10)\n",
        "        score = -F.logsigmoid(score)\n",
        "        neg_score = torch.bmm(emb_neg_v, emb_u.unsqueeze(2)).squeeze()\n",
        "        neg_score = torch.clamp(neg_score, max=10, min=-10)\n",
        "        neg_score = -torch.sum(F.logsigmoid(-neg_score), dim=1)\n",
        "        return torch.mean(score + neg_score)\n",
        "\n",
        "    def save_embedding(self, id_word_map, OUTFILE_NAME):\n",
        "        embedding = self.u_embeddings.weight.cpu().data.numpy()\n",
        "        with open(OUTFILE_NAME, 'w') as f:\n",
        "            f.write('%d %d\\n' % (len(id_word_map), self.emb_dimension))\n",
        "            for wid, w in id_word_map.items():\n",
        "                e = ' '.join(map(lambda x: str(x), embedding[wid]))\n",
        "                f.write('%s %s\\n' % (w, e))"
      ],
      "metadata": {
        "id": "X4zvd0BfrBK5"
      },
      "execution_count": 8,
      "outputs": []
    },
    {
      "cell_type": "code",
      "source": [
        "class SkipGram_Embeddings_generator:\n",
        "    def __init__(self,HYPONYMS_FILENAME, HYPERNYMS_FILENAME, VOCAB_FILENAME, OUTFILE, iterations=10, embedding_len=300):\n",
        "\n",
        "        self.dataset = Hypernymy_Dataset(HYPONYMS_FILENAME, HYPERNYMS_FILENAME, VOCAB_FILENAME)\n",
        "        self.dataloader = DataLoader(self.dataset, batch_size=32,\n",
        "                                     shuffle=True, num_workers=10, collate_fn=self.dataset.collate)\n",
        "        self.device = torch.device(\"cuda\" if torch.cuda.is_available() else \"cpu\")\n",
        "        self.emb_size = len(self.dataset.vocab)\n",
        "        self.embedding_len = embedding_len\n",
        "        self.word2vec_sg_model = SkipGramModel(self.emb_size, self.embedding_len).to(self.device)\n",
        "        self.OUTFILE_name = OUTFILE\n",
        "        self.iterations = iterations\n",
        "        self.loss_logs = list()\n",
        "\n",
        "    def train(self):\n",
        "        print(\"TRAINING EMBEDDINGS\")\n",
        "        for iteration in tqdm(range(self.iterations)):\n",
        "            optimizer = optim.SparseAdam(self.word2vec_sg_model.parameters(), lr=0.00001)\n",
        "            running_loss = 0.0\n",
        "            for i, sample_batched in enumerate(self.dataloader):\n",
        "                if len(sample_batched[0]) > 1:\n",
        "                    pos_u = sample_batched[0].to(self.device)\n",
        "                    pos_v = sample_batched[1].to(self.device)\n",
        "                    neg_v = sample_batched[2].to(self.device)\n",
        "                    optimizer.zero_grad()\n",
        "                    loss = self.word2vec_sg_model.forward(pos_u, pos_v, neg_v)\n",
        "                    loss.backward()\n",
        "                    optimizer.step()\n",
        "                    running_loss = running_loss * 0.9 + loss.item() * 0.1\n",
        "            self.loss_logs.append(running_loss)\n",
        "        self.word2vec_sg_model.save_embedding(self.dataset.id_word_map, self.OUTFILE_name+\"_sg_emb.txt\")\n",
        "        f = open(\"{}_model.pkl\".format(self.OUTFILE_name), \"wb\")\n",
        "        pickle.dump(self.word2vec_sg_model, f)\n",
        "        f.close()\n",
        "        self.generate_loss_plots()\n",
        "\n",
        "    def generate_loss_plots(self):\n",
        "        x = list(range(len(self.loss_logs)))\n",
        "        y = self.loss_logs[:]\n",
        "        plt.plot(x, y)\n",
        "        plt.xlabel(\"Epochs\")\n",
        "        plt.ylabel(\"Running loss (SkipGram)\")\n",
        "        plt.title(\"Training loss trend for {} embeddings\".format(self.OUTFILE_name))\n",
        "        plt.savefig(self.OUTFILE_name + \"_sg_emb_loss.png\")\n",
        "\n",
        "    def write_logs(self):\n",
        "        f = open(self.OUTFILE_name+\"_sg_emb_loss.pkl\", \"wb\")\n",
        "        pickle.dump(self.loss_logs, f)\n",
        "        f.close()\n",
        "        print(\"CREATED {} FILE\".format(self.OUTFILE_name+\"_sg_emb_loss.pkl\"))\n"
      ],
      "metadata": {
        "id": "DMLr6gz9rM-c"
      },
      "execution_count": 9,
      "outputs": []
    },
    {
      "cell_type": "markdown",
      "source": [
        "Final Embeddings"
      ],
      "metadata": {
        "id": "hSdJAUkU39Gw"
      }
    },
    {
      "cell_type": "code",
      "source": [
        "w2v = SkipGram_Embeddings_generator(train_hypo_datapath, train_hyper_datapath, \"merged_english_vocab\",OUTFILE=\"english1\",iterations=150)\n",
        "w2v.train()\n",
        "w2v.write_logs()"
      ],
      "metadata": {
        "colab": {
          "base_uri": "https://localhost:8080/",
          "height": 1000
        },
        "id": "r4s_5DOirlYk",
        "outputId": "c314a2a2-058f-4de5-f5ae-48c741a17762"
      },
      "execution_count": 12,
      "outputs": [
        {
          "output_type": "stream",
          "name": "stdout",
          "text": [
            "TRAINING EMBEDDINGS\n"
          ]
        },
        {
          "output_type": "stream",
          "name": "stderr",
          "text": [
            " 19%|█▉        | 29/150 [00:42<03:21,  1.66s/it]Exception ignored in: <function _MultiProcessingDataLoaderIter.__del__ at 0x7f806f855e10>\n",
            "Traceback (most recent call last):\n",
            "  File \"/usr/local/lib/python3.10/dist-packages/torch/utils/data/dataloader.py\", line 1479, in __del__\n",
            "    self._shutdown_workers()\n",
            "  File \"/usr/local/lib/python3.10/dist-packages/torch/utils/data/dataloader.py\", line 1462, in _shutdown_workers\n",
            "    if w.is_alive():\n",
            "Exception ignored in:   File \"/usr/lib/python3.10/multiprocessing/process.py\", line 160, in is_alive\n",
            "<function _MultiProcessingDataLoaderIter.__del__ at 0x7f806f855e10>\n",
            "Traceback (most recent call last):\n",
            "      File \"/usr/local/lib/python3.10/dist-packages/torch/utils/data/dataloader.py\", line 1479, in __del__\n",
            "assert self._parent_pid == os.getpid(), 'can only test a child process'    \n",
            "self._shutdown_workers()AssertionError\n",
            ":   File \"/usr/local/lib/python3.10/dist-packages/torch/utils/data/dataloader.py\", line 1462, in _shutdown_workers\n",
            "    can only test a child processif w.is_alive():\n",
            "\n",
            "  File \"/usr/lib/python3.10/multiprocessing/process.py\", line 160, in is_alive\n",
            "    assert self._parent_pid == os.getpid(), 'can only test a child process'\n",
            "AssertionError: can only test a child process\n",
            "Exception ignored in: <function _MultiProcessingDataLoaderIter.__del__ at 0x7f806f855e10>\n",
            "Traceback (most recent call last):\n",
            "  File \"/usr/local/lib/python3.10/dist-packages/torch/utils/data/dataloader.py\", line 1479, in __del__\n",
            "    self._shutdown_workers()\n",
            "  File \"/usr/local/lib/python3.10/dist-packages/torch/utils/data/dataloader.py\", line 1462, in _shutdown_workers\n",
            "    if w.is_alive():\n",
            "  File \"/usr/lib/python3.10/multiprocessing/process.py\", line 160, in is_alive\n",
            "    assert self._parent_pid == os.getpid(), 'can only test a child process'\n",
            "AssertionError: can only test a child process\n",
            "Exception ignored in: <function _MultiProcessingDataLoaderIter.__del__ at 0x7f806f855e10>\n",
            "Traceback (most recent call last):\n",
            "  File \"/usr/local/lib/python3.10/dist-packages/torch/utils/data/dataloader.py\", line 1479, in __del__\n",
            "    self._shutdown_workers()\n",
            "  File \"/usr/local/lib/python3.10/dist-packages/torch/utils/data/dataloader.py\", line 1462, in _shutdown_workers\n",
            "    if w.is_alive():\n",
            "  File \"/usr/lib/python3.10/multiprocessing/process.py\", line 160, in is_alive\n",
            "    assert self._parent_pid == os.getpid(), 'can only test a child process'\n",
            "AssertionError: can only test a child process\n",
            "Exception ignored in: <function _MultiProcessingDataLoaderIter.__del__ at 0x7f806f855e10>\n",
            "Traceback (most recent call last):\n",
            "  File \"/usr/local/lib/python3.10/dist-packages/torch/utils/data/dataloader.py\", line 1479, in __del__\n",
            "    self._shutdown_workers()\n",
            "  File \"/usr/local/lib/python3.10/dist-packages/torch/utils/data/dataloader.py\", line 1462, in _shutdown_workers\n",
            "    if w.is_alive():\n",
            "  File \"/usr/lib/python3.10/multiprocessing/process.py\", line 160, in is_alive\n",
            "    assert self._parent_pid == os.getpid(), 'can only test a child process'\n",
            "AssertionError: can only test a child process\n",
            "Exception ignored in: <function _MultiProcessingDataLoaderIter.__del__ at 0x7f806f855e10>\n",
            "Traceback (most recent call last):\n",
            "  File \"/usr/local/lib/python3.10/dist-packages/torch/utils/data/dataloader.py\", line 1479, in __del__\n",
            "    Exception ignored in: self._shutdown_workers()<function _MultiProcessingDataLoaderIter.__del__ at 0x7f806f855e10>\n",
            "\n",
            "Exception ignored in: Traceback (most recent call last):\n",
            "<function _MultiProcessingDataLoaderIter.__del__ at 0x7f806f855e10>\n",
            "Traceback (most recent call last):\n",
            "  File \"/usr/local/lib/python3.10/dist-packages/torch/utils/data/dataloader.py\", line 1479, in __del__\n",
            "  File \"/usr/local/lib/python3.10/dist-packages/torch/utils/data/dataloader.py\", line 1462, in _shutdown_workers\n",
            "      File \"/usr/local/lib/python3.10/dist-packages/torch/utils/data/dataloader.py\", line 1479, in __del__\n",
            "        if w.is_alive():\n",
            "self._shutdown_workers()self._shutdown_workers()  File \"/usr/lib/python3.10/multiprocessing/process.py\", line 160, in is_alive\n",
            "\n",
            "\n",
            "  File \"/usr/local/lib/python3.10/dist-packages/torch/utils/data/dataloader.py\", line 1462, in _shutdown_workers\n",
            "        assert self._parent_pid == os.getpid(), 'can only test a child process'if w.is_alive():\n",
            "  File \"/usr/local/lib/python3.10/dist-packages/torch/utils/data/dataloader.py\", line 1462, in _shutdown_workers\n",
            "AssertionError\n",
            "    : if w.is_alive():can only test a child process\n",
            "  File \"/usr/lib/python3.10/multiprocessing/process.py\", line 160, in is_alive\n",
            "\n",
            "      File \"/usr/lib/python3.10/multiprocessing/process.py\", line 160, in is_alive\n",
            "    assert self._parent_pid == os.getpid(), 'can only test a child process'\n",
            "assert self._parent_pid == os.getpid(), 'can only test a child process'AssertionError\n",
            "AssertionError: : can only test a child process\n",
            "can only test a child process\n",
            "100%|██████████| 150/150 [03:59<00:00,  1.60s/it]\n"
          ]
        },
        {
          "output_type": "stream",
          "name": "stdout",
          "text": [
            "CREATED english1_sg_emb_loss.pkl FILE\n"
          ]
        },
        {
          "output_type": "display_data",
          "data": {
            "text/plain": [
              "<Figure size 640x480 with 1 Axes>"
            ],
            "image/png": "[encoded data removed]"
          },
          "metadata": {}
        }
      ]
    },
    {
      "cell_type": "code",
      "source": [
        "english_embeddings_file = open(\"english1_sg_emb.txt\", \"r\")\n",
        "embeddings = english_embeddings_file.read().splitlines()\n",
        "training_set = \"1A.english.training.data.txt\"\n",
        "training_hypernym_set = \"1A.english.training.gold.txt\"\n",
        "testing_set = \"1A.english.test.data.txt\"\n",
        "testing_hypernym_set = \"1A.english.test.gold.txt\"\n",
        "validation_set = \"1A.english.trial.data.txt\"\n",
        "validation_hypernym_set = \"1A.english.trial.gold.txt\"\n",
        "hypernyms_to_be_saved_for_trainset_data = \"train_predicted_hypernym_lstm_english.txt\"\n",
        "hypernyms_to_be_saved_for_testset_data = \"test_predicted_hypernym_lstm_english.txt\""
      ],
      "metadata": {
        "id": "l9r0ZMl5gvjF"
      },
      "execution_count": 13,
      "outputs": []
    },
    {
      "cell_type": "code",
      "source": [
        "vocab_size = len(embeddings)"
      ],
      "metadata": {
        "id": "oPclwu0LiKUq"
      },
      "execution_count": 14,
      "outputs": []
    },
    {
      "cell_type": "code",
      "source": [
        "embedding_matrix = np.zeros((vocab_size, 300))  # as the size of embedding vector is 300\n",
        "counter = 1\n",
        "word_vocab = []\n",
        "word_vocab.append(\"UNK\")\n",
        "embedding_matrix[0] = np.random.random(300)"
      ],
      "metadata": {
        "id": "ZJf46_VFhe1k"
      },
      "execution_count": 15,
      "outputs": []
    },
    {
      "cell_type": "code",
      "source": [
        "for word_embed in embeddings[1:]:\n",
        "        word_vocab.append(word_embed.split()[0])\n",
        "        temp_embedding = word_embed.strip().split(' ')[1:]\n",
        "        temp_array = np.zeros(shape=(1, 300))\n",
        "\n",
        "        for i in range(len(temp_embedding)):\n",
        "            temp_array[0, i] = float(temp_embedding[i])\n",
        "        embedding_matrix[counter] = temp_array[0]\n",
        "        counter = counter + 1"
      ],
      "metadata": {
        "id": "1JpqGmpXiQ5Z"
      },
      "execution_count": 16,
      "outputs": []
    },
    {
      "cell_type": "code",
      "source": [
        "queryset_file = open(training_set, \"r\")\n",
        "queryset = queryset_file.readlines()\n",
        "queryset_test_file = open(testing_set, \"r\")\n",
        "queryset_test = queryset_test_file.readlines()\n",
        "queryset_validation_file = open(validation_set, \"r\")\n",
        "queryset_validation = queryset_validation_file.readlines()"
      ],
      "metadata": {
        "id": "1I-z0W13imSH"
      },
      "execution_count": 17,
      "outputs": []
    },
    {
      "cell_type": "code",
      "source": [
        "import random"
      ],
      "metadata": {
        "id": "jc_lx9yUkF9s"
      },
      "execution_count": 18,
      "outputs": []
    },
    {
      "cell_type": "code",
      "source": [
        "for i in range(len(queryset)):\n",
        "    queryset[i] = \"_\".join(queryset[i].split(\"\\t\")[0].split())\n",
        "\n",
        "for i in range(len(queryset_test)):\n",
        "    queryset_test[i] = \"_\".join(queryset_test[i].split(\"\\t\")[0].split())\n",
        "\n",
        "for i in range(len(queryset_validation)):\n",
        "    queryset_validation[i] = \"_\".join(queryset_validation[i].split(\"\\t\")[0].split())"
      ],
      "metadata": {
        "id": "yu37tUQdiwRF"
      },
      "execution_count": 19,
      "outputs": []
    },
    {
      "cell_type": "code",
      "source": [
        "training_hypernym_file = open(training_hypernym_set, \"r\")\n",
        "training_hypernyms = training_hypernym_file.read().splitlines() \n",
        "\n",
        "testing_hypernym_file = open(testing_hypernym_set, \"r\")\n",
        "testing_hypernyms = testing_hypernym_file.read().splitlines() \n",
        "\n",
        "validation_hypernym_file = open(validation_hypernym_set, \"r\")\n",
        "validation_hypernyms = validation_hypernym_file.read().splitlines() "
      ],
      "metadata": {
        "id": "oy3KWeBwi78N"
      },
      "execution_count": 20,
      "outputs": []
    },
    {
      "cell_type": "code",
      "source": [
        "def prepare_Dataset(queryset, word_vocab, hypernyms_tab_sep, embedding_matrix):\n",
        "    query_hypernym_training_embedding = np.zeros((1, 2, 300))\n",
        "    y_label = np.array([])\n",
        "    counter = 0\n",
        "    for i in range(len(queryset)):\n",
        "        if queryset[i] in word_vocab:\n",
        "            index = word_vocab.index(queryset[i])\n",
        "            query_embedd = embedding_matrix[index]\n",
        "            for hypernyms_found in hypernyms_tab_sep[i].split(\"\\t\"):\n",
        "                hypernyms_found = \"_\".join(hypernyms_found.split())\n",
        "                if hypernyms_found in word_vocab:\n",
        "                    hypernym_index = word_vocab.index(hypernyms_found)\n",
        "\n",
        "                    hypernym_embedd = embedding_matrix[hypernym_index] \n",
        "                    vec_temp = np.vstack((query_embedd, hypernym_embedd)).reshape(1, 2, -1)\n",
        "                    query_hypernym_training_embedding = np.concatenate((query_hypernym_training_embedding, vec_temp),\n",
        "                                                                       axis=0)  # Merging\n",
        "                    y_label = np.append(y_label, 1)  \n",
        "                    negative_samples_counter = 0\n",
        "                    while negative_samples_counter < 5:  # 5 negative samples per positive sample\n",
        "                        random_index = random.randint(0, len(word_vocab) - 1)\n",
        "                        if random_index != index:\n",
        "                            hypernym_embedd = embedding_matrix[random_index]\n",
        "                            vec_temp = np.vstack((query_embedd, hypernym_embedd)).reshape(1, 2, -1)\n",
        "                            query_hypernym_training_embedding = np.concatenate(\n",
        "                                (query_hypernym_training_embedding, vec_temp), axis=0)  # Merging\n",
        "                            y_label = np.append(y_label,\n",
        "                                                0)  # inserting a negative label for each -ve hyponym-hypernym pair\n",
        "                            counter = counter + 1\n",
        "                            negative_samples_counter = negative_samples_counter + 1\n",
        "\n",
        "                        else:\n",
        "                            continue\n",
        "                else:\n",
        "                    print(hypernyms_found)\n",
        "                    query_embedd = embedding_matrix[index]\n",
        "                    hypernym_index = 0\n",
        "                    print(counter)\n",
        "                    hypernym_embedd = embedding_matrix[hypernym_index]\n",
        "                    vec_temp = np.vstack((query_embedd, hypernym_embedd)).reshape(1, 2, -1)\n",
        "                    query_hypernym_training_embedding = np.concatenate((query_hypernym_training_embedding, vec_temp),\n",
        "                                                                       axis=0)  # Merging\n",
        "                    y_label = np.append(y_label, 1)  # inserting a positive label for each +ve hyponym-hypernym pair\n",
        "                    # generating 5 -ve samples per correct pair\n",
        "                    negative_samples_counter = 0\n",
        "                    while negative_samples_counter < 5:  # 5 negative samples per positive sample\n",
        "                        random_index = random.randint(0, len(word_vocab) - 1)\n",
        "                        if random_index != index:\n",
        "                            hypernym_embedd = embedding_matrix[random_index]\n",
        "                            vec_temp = np.vstack((query_embedd, hypernym_embedd)).reshape(1, 2, -1)\n",
        "                            query_hypernym_training_embedding = np.concatenate(\n",
        "                                (query_hypernym_training_embedding, vec_temp), axis=0)  # Merging\n",
        "                            y_label = np.append(y_label,\n",
        "                                                0)  # inserting a negative label for each -ve hyponym-hypernym pair\n",
        "                            counter = counter + 1\n",
        "                            negative_samples_counter = negative_samples_counter + 1\n",
        "\n",
        "                        else:\n",
        "                            continue\n",
        "\n",
        "    # deleting the unpopulated cells of the array i.e the ones that contained zeros\n",
        "    query_hypernym_training_embedding = query_hypernym_training_embedding[1:, :, :]\n",
        "    # shuffling the query_hypernym_pair and labels randomly before training\n",
        "    list_for_shuffling = list(zip(query_hypernym_training_embedding, y_label))\n",
        "    random.shuffle(list_for_shuffling)\n",
        "    training_query_hypernym_pair, y_train = zip(*list_for_shuffling)\n",
        "    return query_hypernym_training_embedding, y_label"
      ],
      "metadata": {
        "id": "4s6RFyhjjqtt"
      },
      "execution_count": 21,
      "outputs": []
    },
    {
      "cell_type": "code",
      "source": [
        "training_query_hypernym_pair, y_train = prepare_Dataset(queryset, word_vocab, training_hypernyms,embedding_matrix)\n",
        "testing_query_hypernym_pair, y_test = prepare_Dataset(queryset_test, word_vocab, testing_hypernyms,embedding_matrix)\n",
        "validation_query_hypernym_pair, y_validation = prepare_Dataset(queryset_validation, word_vocab,validation_hypernyms, embedding_matrix)"
      ],
      "metadata": {
        "id": "OeeDtLzOjRha"
      },
      "execution_count": 27,
      "outputs": []
    },
    {
      "cell_type": "code",
      "source": [
        "import tensorflow as tf\n",
        "from tensorflow import keras\n",
        "from tensorflow.keras.layers import Input, Dense, Embedding, Bidirectional, LSTM, TimeDistributed, Flatten, GRU\n",
        "from keras.models import load_model\n",
        "from keras.models import Model, Sequential"
      ],
      "metadata": {
        "id": "ZL4ITD_TmCi-"
      },
      "execution_count": 28,
      "outputs": []
    },
    {
      "cell_type": "code",
      "source": [
        "from matplotlib import pyplot as plt"
      ],
      "metadata": {
        "id": "u6tVmAyZ69i-"
      },
      "execution_count": 29,
      "outputs": []
    },
    {
      "cell_type": "markdown",
      "source": [
        "Creating GRU model"
      ],
      "metadata": {
        "id": "43lXSJtsxepm"
      }
    },
    {
      "cell_type": "code",
      "source": [
        "def create_gru_model(loss_fn, adam_optimiser, training_query_hypernym_pair, y_train, testing_query_hypernym_pair,y_test, validation_query_hypernym_pair, y_validation):\n",
        "    model = Sequential()\n",
        "    model.add(Input(shape=(2, 300)))\n",
        "    model.add(GRU(300, return_sequences=True, dropout=0.3))\n",
        "    model.add(GRU(300, dropout=0.2))\n",
        "    model.add(Flatten())\n",
        "    model.add(Dense(300, activation='relu'))\n",
        "    model.add(Dense(1, activation='sigmoid'))\n",
        "    model.compile(loss=loss_fn, optimizer=adam_optimiser, metrics=['accuracy'])\n",
        "    history = model.fit(training_query_hypernym_pair, y_train, batch_size=64, epochs=20, verbose=2,\n",
        "                        validation_data=(validation_query_hypernym_pair, y_validation))\n",
        "    evaluation_test_set_score = model.evaluate(testing_query_hypernym_pair, y_test, batch_size=64)\n",
        "\n",
        "    return model, history, evaluation_test_set_score\n"
      ],
      "metadata": {
        "id": "smzU1f3Dxhe-"
      },
      "execution_count": 32,
      "outputs": []
    },
    {
      "cell_type": "code",
      "source": [
        "def gru_model_training(training_query_hypernym_pair, y_train, testing_query_hypernym_pair, y_test,validation_query_hypernym_pair, y_validation):\n",
        "    loss_fn = tf.keras.losses.BinaryCrossentropy(\n",
        "        from_logits=False,\n",
        "        label_smoothing=0.0,\n",
        "        axis=-1,\n",
        "        name='binary_crossentropy')\n",
        "\n",
        "    adam_optimiser = tf.keras.optimizers.Adam(learning_rate=0.003,beta_1=0.9,beta_2=0.999,epsilon=1e-07,amsgrad=False,name='Adam')\n",
        "    model, history, evaluation_test_set_score = create_gru_model(loss_fn, adam_optimiser,training_query_hypernym_pair, y_train,testing_query_hypernym_pair, y_test,validation_query_hypernym_pair, y_validation)\n",
        "\n",
        "    plt.plot(history.history['accuracy'])\n",
        "    plt.plot(history.history['val_accuracy'])\n",
        "    plt.title('model accuracy')\n",
        "    plt.ylabel('accuracy')\n",
        "    plt.xlabel('epoch')\n",
        "    plt.legend(['train', 'val'], loc='upper left')\n",
        "    plt.show()\n",
        "\n",
        "    print(\"------------------------------------------\")\n",
        "    print(\"Test Set Evaluation\")\n",
        "    print(evaluation_test_set_score)\n",
        "    # saving the trained model\n",
        "    return model  # returning the model to the parent function"
      ],
      "metadata": {
        "id": "wQaM6wf0xzVu"
      },
      "execution_count": 33,
      "outputs": []
    },
    {
      "cell_type": "code",
      "source": [
        "Trained_model = gru_model_training(training_query_hypernym_pair, y_train, testing_query_hypernym_pair, y_test,validation_query_hypernym_pair, y_validation)\n",
        "# tf.saved_model.save(model, 'gru_model1')\n",
        "# Trained_model.save('gru_model_1')\n",
        "Trained_model.save('gru_model_9.h5')"
      ],
      "metadata": {
        "colab": {
          "base_uri": "https://localhost:8080/",
          "height": 1000
        },
        "id": "vVzX07K5x8pN",
        "outputId": "01e14268-bec0-41d1-bedf-683adad75c53"
      },
      "execution_count": null,
      "outputs": [
        {
          "output_type": "stream",
          "name": "stdout",
          "text": [
            "Epoch 1/20\n",
            "650/650 - 40s - loss: 0.4150 - accuracy: 0.8417 - val_loss: 0.5360 - val_accuracy: 0.8301 - 40s/epoch - 62ms/step\n",
            "Epoch 2/20\n",
            "650/650 - 29s - loss: 0.3546 - accuracy: 0.8535 - val_loss: 0.5032 - val_accuracy: 0.8284 - 29s/epoch - 45ms/step\n",
            "Epoch 3/20\n",
            "650/650 - 30s - loss: 0.3336 - accuracy: 0.8569 - val_loss: 0.5614 - val_accuracy: 0.8301 - 30s/epoch - 46ms/step\n",
            "Epoch 4/20\n",
            "650/650 - 30s - loss: 0.3208 - accuracy: 0.8603 - val_loss: 0.5644 - val_accuracy: 0.8088 - 30s/epoch - 45ms/step\n",
            "Epoch 5/20\n",
            "650/650 - 29s - loss: 0.3112 - accuracy: 0.8627 - val_loss: 0.5876 - val_accuracy: 0.8203 - 29s/epoch - 45ms/step\n",
            "Epoch 6/20\n",
            "650/650 - 31s - loss: 0.3026 - accuracy: 0.8649 - val_loss: 0.6508 - val_accuracy: 0.8301 - 31s/epoch - 48ms/step\n",
            "Epoch 7/20\n",
            "650/650 - 29s - loss: 0.2984 - accuracy: 0.8664 - val_loss: 0.6329 - val_accuracy: 0.8203 - 29s/epoch - 45ms/step\n",
            "Epoch 8/20\n",
            "650/650 - 30s - loss: 0.2902 - accuracy: 0.8703 - val_loss: 0.6977 - val_accuracy: 0.8252 - 30s/epoch - 46ms/step\n",
            "Epoch 9/20\n",
            "650/650 - 30s - loss: 0.2830 - accuracy: 0.8718 - val_loss: 0.7915 - val_accuracy: 0.8284 - 30s/epoch - 46ms/step\n",
            "Epoch 10/20\n",
            "650/650 - 30s - loss: 0.2744 - accuracy: 0.8771 - val_loss: 0.7908 - val_accuracy: 0.8301 - 30s/epoch - 46ms/step\n",
            "Epoch 11/20\n",
            "650/650 - 30s - loss: 0.2682 - accuracy: 0.8790 - val_loss: 0.8732 - val_accuracy: 0.8301 - 30s/epoch - 45ms/step\n",
            "Epoch 12/20\n",
            "650/650 - 30s - loss: 0.2611 - accuracy: 0.8821 - val_loss: 0.7354 - val_accuracy: 0.8350 - 30s/epoch - 46ms/step\n",
            "Epoch 13/20\n",
            "650/650 - 30s - loss: 0.2557 - accuracy: 0.8869 - val_loss: 0.7311 - val_accuracy: 0.8301 - 30s/epoch - 46ms/step\n",
            "Epoch 14/20\n",
            "650/650 - 30s - loss: 0.2499 - accuracy: 0.8860 - val_loss: 0.8726 - val_accuracy: 0.8154 - 30s/epoch - 46ms/step\n",
            "Epoch 15/20\n",
            "650/650 - 30s - loss: 0.2454 - accuracy: 0.8901 - val_loss: 0.7679 - val_accuracy: 0.8382 - 30s/epoch - 45ms/step\n",
            "Epoch 16/20\n",
            "650/650 - 30s - loss: 0.2398 - accuracy: 0.8914 - val_loss: 0.7590 - val_accuracy: 0.8382 - 30s/epoch - 46ms/step\n",
            "Epoch 17/20\n",
            "650/650 - 29s - loss: 0.2343 - accuracy: 0.8946 - val_loss: 0.8821 - val_accuracy: 0.8382 - 29s/epoch - 45ms/step\n",
            "Epoch 18/20\n",
            "650/650 - 30s - loss: 0.2263 - accuracy: 0.8978 - val_loss: 0.7597 - val_accuracy: 0.8170 - 30s/epoch - 46ms/step\n",
            "Epoch 19/20\n",
            "650/650 - 29s - loss: 0.2208 - accuracy: 0.8994 - val_loss: 0.8656 - val_accuracy: 0.8333 - 29s/epoch - 45ms/step\n",
            "Epoch 20/20\n",
            "650/650 - 30s - loss: 0.2151 - accuracy: 0.9034 - val_loss: 0.9840 - val_accuracy: 0.8350 - 30s/epoch - 45ms/step\n",
            "454/454 [==============================] - 6s 14ms/step - loss: 0.8703 - accuracy: 0.8249\n"
          ]
        },
        {
          "output_type": "display_data",
          "data": {
            "text/plain": [
              "<Figure size 640x480 with 1 Axes>"
            ],
            "image/png": "[encoded data removed]"
          },
          "metadata": {}
        },
        {
          "output_type": "stream",
          "name": "stdout",
          "text": [
            "------------------------------------------\n",
            "Test Set Evaluation\n",
            "[0.8702733516693115, 0.8248932361602783]\n"
          ]
        }
      ]
    },
    {
      "cell_type": "markdown",
      "source": [
        "## Hyperparameter tuning\n",
        "\n",
        "| Model name | GRU layers | FC layers | batch size | epochs | dropout | Accuracy |\n",
        "|----------------|:----------------|:----------------|:----------------|:----------------|:----------------|:----------------|  \n",
        "|gru_model_1 | 1 | 1 | 32 | 10 | True | 81.21 |\n",
        "|gru_model_2 | 1 | 1 | 32 | 20 | True | 82.75 |\n",
        "|gru_model_3 | 1 | 1 | 64 | 20 | True | 84.33 |\n",
        "|gru_model_4 | 2 | 1 | 32 | 10 | True | 77.70 |\n",
        "|gru_model_5 | 2 | 1 | 32 | 20 | True | 83.97 |\n",
        "|gru_model_6 | 2 | 1 | 64 | 20 | True | 82.67 |\n",
        "|gru_model_7 | 2 | 2 | 32 | 10 | True | 83.81 |\n",
        "|gru_model_8 | 2 | 2 | 32 | 20 | True | 80.32 |\n",
        "|gru_model_9 | 2 | 2 | 64 | 20 | True | 82.48 |"
      ],
      "metadata": {
        "id": "KR0LCETDy6Rb"
      }
    },
    {
      "cell_type": "code",
      "source": [
        "from tensorflow.keras.models import load_model\n",
        "\n",
        "# Load the model\n",
        "model = load_model('/content/gru_model_3.h5')"
      ],
      "metadata": {
        "id": "ftqcARcuqM7I"
      },
      "execution_count": 35,
      "outputs": []
    },
    {
      "cell_type": "code",
      "source": [
        "history = model.fit(training_query_hypernym_pair, y_train, batch_size=32, epochs=10, verbose=2,\n",
        "                        validation_data=(validation_query_hypernym_pair, y_validation))"
      ],
      "metadata": {
        "colab": {
          "base_uri": "https://localhost:8080/"
        },
        "id": "CBhY8Y-2qONu",
        "outputId": "07f03559-f3cb-4081-805d-462ccc1143c5"
      },
      "execution_count": 36,
      "outputs": [
        {
          "output_type": "stream",
          "name": "stdout",
          "text": [
            "Epoch 1/10\n",
            "1300/1300 - 24s - loss: 0.3802 - accuracy: 0.8503 - val_loss: 0.4784 - val_accuracy: 0.8317 - 24s/epoch - 18ms/step\n",
            "Epoch 2/10\n",
            "1300/1300 - 22s - loss: 0.3344 - accuracy: 0.8627 - val_loss: 0.4840 - val_accuracy: 0.8333 - 22s/epoch - 17ms/step\n",
            "Epoch 3/10\n",
            "1300/1300 - 22s - loss: 0.3084 - accuracy: 0.8728 - val_loss: 0.4886 - val_accuracy: 0.8301 - 22s/epoch - 17ms/step\n",
            "Epoch 4/10\n",
            "1300/1300 - 32s - loss: 0.2934 - accuracy: 0.8776 - val_loss: 0.4952 - val_accuracy: 0.8382 - 32s/epoch - 24ms/step\n",
            "Epoch 5/10\n",
            "1300/1300 - 22s - loss: 0.2757 - accuracy: 0.8835 - val_loss: 0.4989 - val_accuracy: 0.8350 - 22s/epoch - 17ms/step\n",
            "Epoch 6/10\n",
            "1300/1300 - 22s - loss: 0.2599 - accuracy: 0.8911 - val_loss: 0.5015 - val_accuracy: 0.8415 - 22s/epoch - 17ms/step\n",
            "Epoch 7/10\n",
            "1300/1300 - 21s - loss: 0.2515 - accuracy: 0.8954 - val_loss: 0.5097 - val_accuracy: 0.8268 - 21s/epoch - 16ms/step\n",
            "Epoch 8/10\n",
            "1300/1300 - 23s - loss: 0.2411 - accuracy: 0.8997 - val_loss: 0.5466 - val_accuracy: 0.8366 - 23s/epoch - 17ms/step\n",
            "Epoch 9/10\n",
            "1300/1300 - 33s - loss: 0.2293 - accuracy: 0.9040 - val_loss: 0.5515 - val_accuracy: 0.8284 - 33s/epoch - 25ms/step\n",
            "Epoch 10/10\n",
            "1300/1300 - 34s - loss: 0.2183 - accuracy: 0.9090 - val_loss: 0.5701 - val_accuracy: 0.8333 - 34s/epoch - 26ms/step\n"
          ]
        }
      ]
    },
    {
      "cell_type": "code",
      "source": [
        "plt.plot(history.history['accuracy'])\n",
        "plt.plot(history.history['val_accuracy'])\n",
        "plt.title('model accuracy')\n",
        "plt.ylabel('accuracy')\n",
        "plt.xlabel('epoch')\n",
        "plt.legend(['train', 'validation'], loc='upper left')\n",
        "plt.show()\n",
        "\n",
        "plt.plot(history.history['loss'])\n",
        "plt.plot(history.history['val_loss'])\n",
        "plt.title('model loss')\n",
        "plt.ylabel('loss')\n",
        "plt.xlabel('epoch')\n",
        "plt.legend(['train', 'validation'], loc='upper left')\n",
        "plt.show()"
      ],
      "metadata": {
        "colab": {
          "base_uri": "https://localhost:8080/",
          "height": 927
        },
        "id": "yZho9M8V-4nB",
        "outputId": "134a27e8-4f77-4452-b2c3-241892c8a337"
      },
      "execution_count": 37,
      "outputs": [
        {
          "output_type": "display_data",
          "data": {
            "text/plain": [
              "<Figure size 640x480 with 1 Axes>"
            ],
            "image/png": "[encoded data removed]"
          },
          "metadata": {}
        },
        {
          "output_type": "display_data",
          "data": {
            "text/plain": [
              "<Figure size 640x480 with 1 Axes>"
            ],
            "image/png": "[encoded data removed]"
          },
          "metadata": {}
        }
      ]
    }
  ]
}